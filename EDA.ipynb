{
 "cells": [
  {
   "cell_type": "code",
   "execution_count": null,
   "id": "16539c55",
   "metadata": {},
   "outputs": [],
   "source": [
    "import codecademylib3\n",
    "import pandas as pd\n",
    "import numpy as np\n",
    "\n",
    "# code goes here\n",
    "#Inspecting the dataset:\n",
    "diabetes_data = pd.read_csv(\"diabetes.csv\")\n",
    "print(diabetes_data.head())\n",
    "\n",
    "#checking the number of columns and Rows.\n",
    "print(diabetes_data.columns)\n",
    "print(diabetes_data.shape)\n",
    "\n",
    "#Checking for missing values:\n",
    "missing = diabetes_data.isnull().sum()\n",
    "\n",
    "#Summary_Statistics:\n",
    "data_describe = diabetes_data.describe()\n",
    "\n",
    "#Checking for outliers:\n",
    "maximum_of_Insulin = diabetes_data.Insulin.max()\n",
    "print(maximum_of_Insulin)\n",
    "maximum_of_Pregnancies = diabetes_data.Pregnancies.max()\n",
    "print(maximum_of_Pregnancies)\n",
    "\n",
    "#Replacing Missing values:\n",
    "diabetes_data[['Glucose','BloodPressure','SkinThickness','Insulin','BMI']] = diabetes_data[['Glucose','BloodPressure','SkinThickness','Insulin','BMI']].replace(0,np.NaN)\n",
    "\n",
    "#Missing values in columns:\n",
    "columns_null = diabetes_data.isnull().sum()\n",
    "print(columns_null)\n",
    "\n",
    "#Checking the data types:\n",
    "print(diabetes_data.dtypes)\n",
    "print(diabetes_data.Outcome.unique())\n",
    "diabetes_data = diabetes_data.Outcome.fillna(0)\n",
    "print(diabetes_data)\n",
    "print(diabetes_data.dtypes)"
   ]
  }
 ],
 "metadata": {
  "kernelspec": {
   "display_name": "Python 3",
   "language": "python",
   "name": "python3"
  },
  "language_info": {
   "codemirror_mode": {
    "name": "ipython",
    "version": 3
   },
   "file_extension": ".py",
   "mimetype": "text/x-python",
   "name": "python",
   "nbconvert_exporter": "python",
   "pygments_lexer": "ipython3",
   "version": "3.8.8"
  }
 },
 "nbformat": 4,
 "nbformat_minor": 5
}
